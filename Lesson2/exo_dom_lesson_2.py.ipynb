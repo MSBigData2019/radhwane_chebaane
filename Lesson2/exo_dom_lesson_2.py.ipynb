{
 "cells": [
  {
   "cell_type": "markdown",
   "metadata": {
    "slideshow": {
     "slide_type": "-"
    }
   },
   "source": [
    "# Scrapping financial information"
   ]
  },
  {
   "cell_type": "code",
   "execution_count": 185,
   "metadata": {},
   "outputs": [
    {
     "name": "stdout",
     "output_type": "stream",
     "text": [
      "The blackcellmagic extension is already loaded. To reload it, use:\n",
      "  %reload_ext blackcellmagic\n"
     ]
    }
   ],
   "source": [
    "%load_ext blackcellmagic\n",
    "from selenium import webdriver\n",
    "from selenium.webdriver.common.keys import Keys\n",
    "from bs4 import BeautifulSoup\n",
    "import re\n",
    "from itertools import chain\n",
    "import pandas as pd\n",
    "from tabulate import tabulate\n",
    "import os"
   ]
  },
  {
   "cell_type": "code",
   "execution_count": 186,
   "metadata": {},
   "outputs": [],
   "source": [
    "def flatMap(function_to_apply, list_of_inputs, filter_to_apply=lambda x: True):\n",
    "    return list(\n",
    "        chain.from_iterable(\n",
    "            [function_to_apply(el) for el in list_of_inputs if filter_to_apply(el)]\n",
    "        )\n",
    "    )\n"
   ]
  },
  {
   "cell_type": "code",
   "execution_count": 197,
   "metadata": {},
   "outputs": [],
   "source": [
    "companies = {\"LVMH\": \"LVMH.PA\", \"Aribus\": \"AIR.PA\", \"Danone\": \"DANO.PA\"}\n",
    "companiesData = []"
   ]
  },
  {
   "cell_type": "code",
   "execution_count": 193,
   "metadata": {},
   "outputs": [],
   "source": [
    "# create a new Chrome session\n",
    "driver = webdriver.Chrome(\"../../chromedriver\")\n",
    "driver.implicitly_wait(30)"
   ]
  },
  {
   "cell_type": "code",
   "execution_count": 198,
   "metadata": {},
   "outputs": [
    {
     "name": "stdout",
     "output_type": "stream",
     "text": [
      "CPU times: user 362 ms, sys: 17.2 ms, total: 379 ms\n",
      "Wall time: 2.49 s\n"
     ]
    }
   ],
   "source": [
    "%%time\n",
    "for company in companies:\n",
    "    # New record with company name\n",
    "    companyData = {\"company\": company}\n",
    "    # Build url with company stock name\n",
    "    url = (\n",
    "        \"https://www.reuters.com/finance/stocks/financial-highlights/\"\n",
    "        + companies[company]\n",
    "    )\n",
    "    # get url and feed it to beautifulSoup\n",
    "    driver.get(url)\n",
    "    soup = BeautifulSoup(driver.page_source, \"html.parser\")\n",
    "\n",
    "    # Get all tables with class dataTable\n",
    "    tables = soup.find_all(\"table\", class_=\"dataTable\")\n",
    "    for table in tables:\n",
    "        # Parse Sales table\n",
    "        if \"SALES (in millions)\" in table.text:\n",
    "            dfs = pd.read_html(str(table), header=[0])\n",
    "            if len(dfs) < 1:\n",
    "                print(\"No sales found for company \" + company)\n",
    "            else:\n",
    "                # Suppose there is one possible dataframe and thus get first one in list\n",
    "                df = dfs[0]\n",
    "                # Get index of line after \"SALES (in millions)\"\n",
    "                q4_sales_index = (\n",
    "                    df.loc[df[df.columns[0]] == \"SALES (in millions)\"].index.tolist()[0]\n",
    "                    + 1\n",
    "                )\n",
    "                companyData[\"sales_mean\"] = df.at[q4_sales_index, \"Mean\"]\n",
    "                companyData[\"sales_low\"] = df.at[q4_sales_index, \"High\"]\n",
    "                companyData[\"sales_high\"] = df.at[q4_sales_index, \"Low\"]\n",
    "\n",
    "        elif \"Dividend Yield\" in table.text:\n",
    "            dfs = pd.read_html(str(table), header=[0])\n",
    "            if len(dfs) < 1:\n",
    "                print(\"No dividend data found for company \" + company)\n",
    "            else:\n",
    "                df = dfs[0]\n",
    "                dividend_yield_index = df.loc[\n",
    "                    df[df.columns[0]] == \"Dividend Yield\"\n",
    "                ].index.tolist()[0]\n",
    "                companyData[\"dividend_yield_company\"] = df.at[\n",
    "                    dividend_yield_index, \"Company\"\n",
    "                ]\n",
    "                companyData[\"dividend_yield_industry\"] = df.at[\n",
    "                    dividend_yield_index, \"industry\"\n",
    "                ]\n",
    "                companyData[\"dividend_yield_sector\"] = df.at[\n",
    "                    dividend_yield_index, \"sector\"\n",
    "                ]\n",
    "\n",
    "        elif \"% Shares Owned:\" in table.text:\n",
    "            dfs = pd.read_html(str(table), header=None)\n",
    "            if len(dfs) < 1:\n",
    "                print(\"No shares data found for company \" + company)\n",
    "            else:\n",
    "                df = dfs[0]\n",
    "                shares_index = df.loc[\n",
    "                    df[df.columns[0]] == \"% Shares Owned:\"\n",
    "                ].index.tolist()[0]\n",
    "                companyData[\"institutional_shares\"] = df.at[shares_index, df.columns[1]]\n",
    "\n",
    "    divs = soup.find_all(\"div\", class_=\"sectionQuoteDetail\")\n",
    "\n",
    "    price_regex = re.compile(\"[0-9]{1,9}[.,][0-9]{1,3}$\")\n",
    "    prices = flatMap(\n",
    "        lambda div: div.findAll(\"span\", text=price_regex),\n",
    "        divs,\n",
    "        lambda div: \"on Paris Stock Exchange\" in div.text,\n",
    "    )\n",
    "    if len(prices) < 1:\n",
    "        print(\"No price found for company \" + company)\n",
    "    else:\n",
    "        companyData[\"stock_price\"] = float(prices[0].text)\n",
    "\n",
    "    change_regex = re.compile(\"[-+][0-9]{1,9}[.,][0-9]{1,3}%\")\n",
    "    changes = flatMap(\n",
    "        lambda div: div.findAll(\"span\", text=change_regex),\n",
    "        divs,\n",
    "        lambda div: \"Change\" in div.text,\n",
    "    )\n",
    "    if len(changes) < 1:\n",
    "        print(\"No change found for company \" + company)\n",
    "    else:\n",
    "        companyData[\"stock_change\"] = re.findall(change_regex, changes[0].text)[0]\n",
    "\n",
    "    companiesData.append(companyData)\n"
   ]
  },
  {
   "cell_type": "code",
   "execution_count": 199,
   "metadata": {},
   "outputs": [
    {
     "data": {
      "text/html": [
       "<div>\n",
       "<style scoped>\n",
       "    .dataframe tbody tr th:only-of-type {\n",
       "        vertical-align: middle;\n",
       "    }\n",
       "\n",
       "    .dataframe tbody tr th {\n",
       "        vertical-align: top;\n",
       "    }\n",
       "\n",
       "    .dataframe thead th {\n",
       "        text-align: right;\n",
       "    }\n",
       "</style>\n",
       "<table border=\"1\" class=\"dataframe\">\n",
       "  <thead>\n",
       "    <tr style=\"text-align: right;\">\n",
       "      <th></th>\n",
       "      <th>company</th>\n",
       "      <th>dividend_yield_company</th>\n",
       "      <th>dividend_yield_industry</th>\n",
       "      <th>dividend_yield_sector</th>\n",
       "      <th>institutional_shares</th>\n",
       "      <th>sales_high</th>\n",
       "      <th>sales_low</th>\n",
       "      <th>sales_mean</th>\n",
       "      <th>stock_change</th>\n",
       "      <th>stock_price</th>\n",
       "    </tr>\n",
       "  </thead>\n",
       "  <tbody>\n",
       "    <tr>\n",
       "      <th>0</th>\n",
       "      <td>LVMH</td>\n",
       "      <td>1.92</td>\n",
       "      <td>1.70</td>\n",
       "      <td>2.60</td>\n",
       "      <td>20.57%</td>\n",
       "      <td>13575.0</td>\n",
       "      <td>13769.0</td>\n",
       "      <td>13667.7</td>\n",
       "      <td>-2.04%</td>\n",
       "      <td>259.90</td>\n",
       "    </tr>\n",
       "    <tr>\n",
       "      <th>1</th>\n",
       "      <td>Aribus</td>\n",
       "      <td>1.45</td>\n",
       "      <td>1.34</td>\n",
       "      <td>1.64</td>\n",
       "      <td>43.53%</td>\n",
       "      <td>21431.0</td>\n",
       "      <td>26073.4</td>\n",
       "      <td>23493.0</td>\n",
       "      <td>-1.27%</td>\n",
       "      <td>97.73</td>\n",
       "    </tr>\n",
       "    <tr>\n",
       "      <th>2</th>\n",
       "      <td>Danone</td>\n",
       "      <td>2.90</td>\n",
       "      <td>2.78</td>\n",
       "      <td>2.48</td>\n",
       "      <td>50.60%</td>\n",
       "      <td>6025.0</td>\n",
       "      <td>6142.0</td>\n",
       "      <td>6072.6</td>\n",
       "      <td>-1.52%</td>\n",
       "      <td>64.34</td>\n",
       "    </tr>\n",
       "  </tbody>\n",
       "</table>\n",
       "</div>"
      ],
      "text/plain": [
       "  company  dividend_yield_company  dividend_yield_industry  \\\n",
       "0    LVMH                    1.92                     1.70   \n",
       "1  Aribus                    1.45                     1.34   \n",
       "2  Danone                    2.90                     2.78   \n",
       "\n",
       "   dividend_yield_sector institutional_shares  sales_high  sales_low  \\\n",
       "0                   2.60               20.57%     13575.0    13769.0   \n",
       "1                   1.64               43.53%     21431.0    26073.4   \n",
       "2                   2.48               50.60%      6025.0     6142.0   \n",
       "\n",
       "   sales_mean stock_change  stock_price  \n",
       "0     13667.7       -2.04%       259.90  \n",
       "1     23493.0       -1.27%        97.73  \n",
       "2      6072.6       -1.52%        64.34  "
      ]
     },
     "execution_count": 199,
     "metadata": {},
     "output_type": "execute_result"
    }
   ],
   "source": [
    "companiesDf = pd.DataFrame(companiesData)\n",
    "companiesDf.head()"
   ]
  },
  {
   "cell_type": "code",
   "execution_count": 200,
   "metadata": {},
   "outputs": [],
   "source": [
    "driver.quit()"
   ]
  },
  {
   "cell_type": "code",
   "execution_count": 201,
   "metadata": {},
   "outputs": [],
   "source": [
    "companiesDf.to_csv(\"./companies.csv\")"
   ]
  }
 ],
 "metadata": {
  "celltoolbar": "Raw Cell Format",
  "kernelspec": {
   "display_name": "Python 3",
   "language": "python",
   "name": "python3"
  },
  "language_info": {
   "codemirror_mode": {
    "name": "ipython",
    "version": 3
   },
   "file_extension": ".py",
   "mimetype": "text/x-python",
   "name": "python",
   "nbconvert_exporter": "python",
   "pygments_lexer": "ipython3",
   "version": "3.6.5"
  }
 },
 "nbformat": 4,
 "nbformat_minor": 2
}
