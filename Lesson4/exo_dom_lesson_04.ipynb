{
 "cells": [
  {
   "cell_type": "code",
   "execution_count": 1,
   "metadata": {},
   "outputs": [],
   "source": [
    "%load_ext blackcellmagic\n",
    "from selenium import webdriver\n",
    "from selenium.webdriver.common.keys import Keys\n",
    "from bs4 import BeautifulSoup\n",
    "import re\n",
    "from itertools import chain\n",
    "import pandas as pd\n",
    "from tabulate import tabulate\n",
    "import os\n",
    "import requests\n",
    "from math import ceil\n",
    "import traceback"
   ]
  },
  {
   "cell_type": "code",
   "execution_count": 2,
   "metadata": {},
   "outputs": [],
   "source": [
    "def flatMap(function_to_apply, list_of_inputs, filter_to_apply=lambda x: True):\n",
    "    return list(\n",
    "        chain.from_iterable(\n",
    "            [function_to_apply(el) for el in list_of_inputs if filter_to_apply(el)]\n",
    "        )\n",
    "    )\n"
   ]
  },
  {
   "cell_type": "code",
   "execution_count": 3,
   "metadata": {},
   "outputs": [],
   "source": [
    "# create a new Chrome session\n",
    "driver = webdriver.Chrome(\"../../chromedriver\")\n",
    "driver.implicitly_wait(30)"
   ]
  },
  {
   "cell_type": "code",
   "execution_count": 4,
   "metadata": {},
   "outputs": [],
   "source": [
    "base_url = \"https://www.leboncoin.fr/recherche/?category=2&text=zoe&regions=12\""
   ]
  },
  {
   "cell_type": "code",
   "execution_count": 5,
   "metadata": {},
   "outputs": [],
   "source": [
    "page = driver.get(base_url)"
   ]
  },
  {
   "cell_type": "code",
   "execution_count": 6,
   "metadata": {},
   "outputs": [],
   "source": [
    "bs = BeautifulSoup(driver.page_source, \"html.parser\")"
   ]
  },
  {
   "cell_type": "code",
   "execution_count": 7,
   "metadata": {},
   "outputs": [],
   "source": [
    "(total, particulier, pro) = tuple(map(lambda e: int(e.text), bs.find_all(\"span\", class_=\"_2ilNG\")))"
   ]
  },
  {
   "cell_type": "code",
   "execution_count": 8,
   "metadata": {},
   "outputs": [
    {
     "data": {
      "text/plain": [
       "(211, 10, 201)"
      ]
     },
     "execution_count": 8,
     "metadata": {},
     "output_type": "execute_result"
    }
   ],
   "source": [
    "total, particulier, pro"
   ]
  },
  {
   "cell_type": "code",
   "execution_count": 9,
   "metadata": {},
   "outputs": [
    {
     "name": "stdout",
     "output_type": "stream",
     "text": [
      "https://www.leboncoin.fr/recherche/?category=2&text=zoe&regions=12&owner_type=private\n"
     ]
    }
   ],
   "source": [
    "MAX_PER_PAGE = 35\n",
    "particuliers_urls = []\n",
    "num_pages = ceil(particulier / 35)\n",
    "\n",
    "for num in range(1, num_pages+1):\n",
    "    particuliers_tab = base_url + \"&owner_type=private\" + (\"&page=\"+num if num > 1 else \"\")\n",
    "    print(particuliers_tab)\n",
    "    driver.get(particuliers_tab)\n",
    "    bs = BeautifulSoup(driver.page_source, \"html.parser\")\n",
    "    particuliers_urls.extend([el.attrs['href'] for el in bs.find_all(\"a\", class_=\"clearfix trackable\")])"
   ]
  },
  {
   "cell_type": "code",
   "execution_count": 10,
   "metadata": {},
   "outputs": [
    {
     "name": "stdout",
     "output_type": "stream",
     "text": [
      "https://www.leboncoin.fr/recherche/?category=2&text=zoe&regions=12&owner_type=pro\n",
      "https://www.leboncoin.fr/recherche/?category=2&text=zoe&regions=12&owner_type=pro&page=2\n",
      "https://www.leboncoin.fr/recherche/?category=2&text=zoe&regions=12&owner_type=pro&page=3\n",
      "https://www.leboncoin.fr/recherche/?category=2&text=zoe&regions=12&owner_type=pro&page=4\n",
      "https://www.leboncoin.fr/recherche/?category=2&text=zoe&regions=12&owner_type=pro&page=5\n",
      "https://www.leboncoin.fr/recherche/?category=2&text=zoe&regions=12&owner_type=pro&page=6\n"
     ]
    }
   ],
   "source": [
    "MAX_PER_PAGE = 35\n",
    "pro_urls = []\n",
    "num_pages = ceil(pro / 35)\n",
    "\n",
    "for num in range(1, num_pages+1):\n",
    "    particuliers_tab = base_url + \"&owner_type=pro\" + (\"&page=\"+ str(num) if num > 1 else \"\")\n",
    "    print(particuliers_tab)\n",
    "    driver.get(particuliers_tab)\n",
    "    bs = BeautifulSoup(driver.page_source, \"html.parser\")\n",
    "    pro_urls.extend([el.attrs['href'] for el in bs.find_all(\"a\", class_=\"clearfix trackable\")])"
   ]
  },
  {
   "cell_type": "code",
   "execution_count": 11,
   "metadata": {},
   "outputs": [
    {
     "data": {
      "text/plain": [
       "(10, 201)"
      ]
     },
     "execution_count": 11,
     "metadata": {},
     "output_type": "execute_result"
    }
   ],
   "source": [
    "len(particuliers_urls), len(pro_urls)"
   ]
  },
  {
   "cell_type": "code",
   "execution_count": 12,
   "metadata": {},
   "outputs": [],
   "source": [
    "retrieved_phones = {}\n",
    "car_datas = []"
   ]
  },
  {
   "cell_type": "code",
   "execution_count": 13,
   "metadata": {},
   "outputs": [],
   "source": [
    "from lxml.html import fromstring\n",
    "def get_free_proxies():\n",
    "    url = 'https://free-proxy-list.net/'\n",
    "    response = requests.get(url)\n",
    "    parser = fromstring(response.text)\n",
    "    proxies = set()\n",
    "    for i in parser.xpath('//tbody/tr')[:10]:\n",
    "        if i.xpath('.//td[7][contains(text(),\"yes\")]'):\n",
    "            #Grabbing IP and corresponding PORT\n",
    "            proxy = \":\".join([i.xpath('.//td[1]/text()')[0], i.xpath('.//td[2]/text()')[0]])\n",
    "            proxies.add(proxy)\n",
    "    print(\"found \" + str(len(proxies)) + \"proxies.\")\n",
    "    return proxies"
   ]
  },
  {
   "cell_type": "code",
   "execution_count": 14,
   "metadata": {},
   "outputs": [],
   "source": [
    "def get_spys_proxies():\n",
    "    b = driver.get(\"http://spys.one/en/https-ssl-proxy/\")\n",
    "    driver.find_element_by_xpath(\"//select[@name='xpp']/option[text()='500']\").click()\n",
    "    driver.find_element_by_xpath(\"//select[@name='xf2']/option[text()='SSL+']\").click()\n",
    "    driver.find_element_by_xpath(\"//select[@name='xf5']/option[text()='HTTP']\").click()\n",
    "\n",
    "    # Test if text contins a valid IP address\n",
    "    def matchIP(text):\n",
    "        return re.match(\"\\d{1,3}\\.\\d{1,3}\\.\\d{1,3}\\.\\d{1,3}\", text) != None\n",
    "    # Extract full proxy address\n",
    "    def extractProxy(text):\n",
    "        groups = re.search(\"(\\d{1,3}\\.\\d{1,3}\\.\\d{1,3}\\.\\d{1,3})(.*)(:\\d*)$\", text)\n",
    "        if groups:\n",
    "            return groups.group(1) + groups.group(3)\n",
    "        else:\n",
    "            return None\n",
    "    \n",
    "    soup = BeautifulSoup(driver.page_source, \"html.parser\")\n",
    "    new_proxies = [extractProxy(el.text) for el in soup.find_all(\"font\", class_=\"spy14\") if matchIP(el.text)]\n",
    "    print(\"found \" + str(len(new_proxies)) + \"proxies.\")\n",
    "    return new_proxies"
   ]
  },
  {
   "cell_type": "code",
   "execution_count": 15,
   "metadata": {},
   "outputs": [],
   "source": [
    "def get_proxyBroker_proxies(num, result_list):\n",
    "    import asyncio\n",
    "    from proxybroker import Broker\n",
    "    \n",
    "    async def show(proxies):\n",
    "        while True:\n",
    "            proxy = await proxies.get()\n",
    "            if proxy is None: break\n",
    "            result_list.append( str(proxy.host) + \":\" + str(proxy.port))\n",
    "            print('Found proxy: %s' % proxy)\n",
    "            \n",
    "    proxies = asyncio.Queue()\n",
    "    broker = Broker(proxies)\n",
    "    tasks = asyncio.gather(\n",
    "        broker.find(types=['HTTPS'], limit=num),\n",
    "        show(proxies))\n",
    "    \n",
    "    loop = asyncio.get_event_loop()\n",
    "#    loop.run_until_complete(tasks)"
   ]
  },
  {
   "cell_type": "code",
   "execution_count": 16,
   "metadata": {},
   "outputs": [],
   "source": [
    "class ProxiesPool:\n",
    "    def __init__(self, proxies):\n",
    "        assert len(proxies) > 1, \"Proxies is empty\"\n",
    "        self.proxies = []\n",
    "        self.proxies.extend(proxies)\n",
    "        self.proxies.append(\"\")\n",
    "        self.proxy = self.nextProxy()\n",
    "    \n",
    "    def getActiveProxy(self):\n",
    "        return self.proxy\n",
    "    \n",
    "    def nextProxy(self):\n",
    "        if len(self.proxies) > 1:\n",
    "            self.proxy = self.proxies.pop()\n",
    "            if not self.testProxy(self.proxy):\n",
    "                return self.nextProxy()\n",
    "        else:\n",
    "            self.proxy = None\n",
    "        return self.proxy\n",
    "        \n",
    "    def testProxy(self, proxy):\n",
    "        try:\n",
    "            response = requests.get('https://httpbin.org/ip',proxies={\"http\": proxy, \"https\": proxy}, verify=False, timeout=10)\n",
    "            if response.status_code == 200:\n",
    "                print(\"Proxy \"+ proxy + \" is valid.\")\n",
    "                return True\n",
    "            else:\n",
    "                print(\"Proxy \"+ proxy + \" has problems: \" + str(response))\n",
    "                return False\n",
    "        except Exception as e:\n",
    "            traceback.print_exc()\n",
    "            print(\"Proxy \"+ proxy + \" has problems: \" + str(e))\n",
    "            return False"
   ]
  },
  {
   "cell_type": "code",
   "execution_count": 17,
   "metadata": {},
   "outputs": [],
   "source": [
    "def getPhoneNumberWithProxy(item_id, proxy):\n",
    "    if item_id in retrieved_phones:\n",
    "        return retrieved_phones[item_id]\n",
    "    url = \"https://api.leboncoin.fr/api/utils/phonenumber.json\"\n",
    "    #url = \"http://api.scraperapi.com/\"\n",
    "    #proxy_key=\"d5e14ef3eeabf7a5515cd1b4ce08e7d9\"\n",
    "    proxies={\"http\": proxy, \"https\": proxy}\n",
    "    datas = {\n",
    "      \"list_id\": item_id,\n",
    "      \"app_id\": \"leboncoin_web_utils\",\n",
    "      \"key\": \"54bb0281238b45a03f0ee695f73e704f\",\n",
    "      \"text\": 1\n",
    "    }\n",
    "    headers = {\n",
    "      \"User-Agent\": \"Mozilla/5.0 (Macintosh; Intel Mac OS X 10_11_5) AppleWebKit/537.36 (KHTML, like Gecko) Chrome/51.0.2704.103 Safari/537.36\",\n",
    "      \"Accept-Language\": \"en-US,en;q=0.8,fr;q=0.6\",\n",
    "      \"Referer\": \"https://www.leboncoin.fr/voitures/\" + item_id + \".htm?ca=12_s\",\n",
    "      \"Origin\": \"https://www.leboncoin.fr\",\n",
    "      \"Accept-Encoding\": \"gzip, deflate, br\"\n",
    "    }\n",
    "    try:\n",
    "        print(\"ask number for item: \" + item_id)\n",
    "        resp = requests.post(url=url, data=datas, headers=headers, proxies=proxies)\n",
    "        if resp.status_code == 200:\n",
    "            utils = resp.json()['utils']\n",
    "            if utils['status'] == \"OK\":\n",
    "                retrieved_phones[item_id] = utils['phonenumber']\n",
    "                print(\"phone retrieved successfully: \" + utils['phonenumber'])\n",
    "                return utils['phonenumber']\n",
    "            else:\n",
    "                print(\"Failed to get phone: \" + resp.text)\n",
    "                return None\n",
    "    except:\n",
    "        print(\"Failed to get phone number, request failed.\")\n",
    "        return None"
   ]
  },
  {
   "cell_type": "code",
   "execution_count": null,
   "metadata": {},
   "outputs": [],
   "source": [
    "proxies = []\n",
    "get_proxyBroker_proxies(200, proxies)"
   ]
  },
  {
   "cell_type": "code",
   "execution_count": null,
   "metadata": {},
   "outputs": [],
   "source": [
    "from itertools import cycle\n",
    "import traceback\n",
    "\n",
    "#proxies = get_spys_proxies()\n",
    "proxiesPool = ProxiesPool(proxies)\n",
    "\n",
    "url = 'https://httpbin.org/ip'\n",
    "#Get a proxy from the pool\n",
    "proxy = proxiesPool.nextProxy()\n",
    "for i in range(1,2):\n",
    "    proxy = proxiesPool.getActiveProxy()\n",
    "    if not proxy:\n",
    "        print(\"No more availible proxies\")\n",
    "        break\n",
    "    print(\"Request #\" + str(i) + \": \" + proxy)\n",
    "    try:\n",
    "#        response = requests.get(url,proxies={\"http\": proxy, \"https\": proxy})\n",
    "        response = getPhoneNumberWithProxy(\"1492326333\", proxy)\n",
    "        print(proxy + \": \" + str(response))\n",
    "    except Exception as e:\n",
    "        traceback.print_exc()\n",
    "        proxy = proxiesPool.nextProxy()\n",
    "        #Most free proxies will often get connection errors. You will have retry the entire request using another proxy to work. \n",
    "        #We will just skip retries as its beyond the scope of this tutorial and we are only downloading a single url \n",
    "        print(\"Skipping. Connnection error: \" + str(e))\n"
   ]
  },
  {
   "cell_type": "code",
   "execution_count": 25,
   "metadata": {},
   "outputs": [
    {
     "name": "stderr",
     "output_type": "stream",
     "text": [
      "<input>:2: DeprecationWarning: invalid escape sequence \\/\n",
      "<input>:24: DeprecationWarning: invalid escape sequence \\d\n",
      "<ipython-input-25-e81cfa7c6c1a>:2: DeprecationWarning: invalid escape sequence \\/\n",
      "  search_rs = re.search('\\/voitures\\/(\\d*).htm\\/', car_url)\n",
      "<ipython-input-25-e81cfa7c6c1a>:24: DeprecationWarning: invalid escape sequence \\d\n",
      "  mileage_group = re.search('(\\d*) km', attr['value_label'])\n"
     ]
    }
   ],
   "source": [
    "def getCarData(car_url, proxies_pool):\n",
    "    search_rs = re.search('\\/voitures\\/(\\d*).htm\\/', car_url)\n",
    "    if not search_rs:\n",
    "        print(\"url \" + car_url + \" not clean\")\n",
    "        return None\n",
    "    item_id = search_rs.group(1)\n",
    "    car_data = {}\n",
    "    car_data['id'] = item_id\n",
    "    base_url = \"https://api.leboncoin.fr/finder/classified/\"\n",
    "    url = base_url + item_id\n",
    "    headers = {\n",
    "        \"api_key\": \"ba0c2dad52b3ec\",\n",
    "        \"origin\": \"https://www.leboncoin.fr\"\n",
    "    }\n",
    "    resp = requests.get(url, headers=headers)\n",
    "    json_resp = resp.json()\n",
    "    car_data['price'] = float(json_resp['price'][-1])\n",
    "    for attr in json_resp['attributes']:\n",
    "        if attr['key'] == 'model':\n",
    "            car_data['model'] = attr['value_label']\n",
    "        if attr['key'] == 'regdate':\n",
    "            car_data['year'] = int(attr['value_label'])\n",
    "        if attr['key'] == 'mileage':\n",
    "            mileage_group = re.search('(\\d*) km', attr['value_label'])\n",
    "            if mileage_group:\n",
    "                car_data['mileage'] = float(mileage_group.group(1))\n",
    "            else:\n",
    "                car_data['mileage'] = attr['value_label']\n",
    "    car_data['phone'] = None\n",
    "    if json_resp['has_phone']:\n",
    "        phone = None\n",
    "        proxy = proxies_pool.getActiveProxy()\n",
    "        if proxy != None:\n",
    "            while phone is None and proxy != None:\n",
    "                phone = getPhoneNumberWithProxy(item_id, proxy)\n",
    "                if phone:\n",
    "                    break\n",
    "                else:\n",
    "                    print(\"failed to get phone for \" + item_id + \" with proxy \" + proxy)\n",
    "                    proxy = proxies_pool.nextProxy()\n",
    "        else:\n",
    "            print(\"No more proxies availible, setting phone to None.\")\n",
    "        car_data['phone'] = phone\n",
    "    return car_data"
   ]
  },
  {
   "cell_type": "code",
   "execution_count": null,
   "metadata": {},
   "outputs": [],
   "source": [
    "#proxies = get_free_proxies()\n",
    "proxies_pool = ProxiesPool(proxies)"
   ]
  },
  {
   "cell_type": "code",
   "execution_count": null,
   "metadata": {},
   "outputs": [],
   "source": [
    "\n",
    "car_datas = []\n",
    "for pro_url in pro_urls:\n",
    "    car_data = getCarData(pro_url, proxies_pool)\n",
    "    if car_data:\n",
    "        car_data['type'] = \"pro\"\n",
    "        car_datas.append(car_data)\n",
    "\n",
    "for particuliers_url in particuliers_urls:\n",
    "    car_data = getCarData(pro_url, proxies_pool)\n",
    "    if car_data:\n",
    "        car_data['type'] = \"private\"\n",
    "        car_datas.append(car_data)"
   ]
  },
  {
   "cell_type": "code",
   "execution_count": 27,
   "metadata": {},
   "outputs": [
    {
     "data": {
      "text/html": [
       "<div>\n",
       "<style scoped>\n",
       "    .dataframe tbody tr th:only-of-type {\n",
       "        vertical-align: middle;\n",
       "    }\n",
       "\n",
       "    .dataframe tbody tr th {\n",
       "        vertical-align: top;\n",
       "    }\n",
       "\n",
       "    .dataframe thead th {\n",
       "        text-align: right;\n",
       "    }\n",
       "</style>\n",
       "<table border=\"1\" class=\"dataframe\">\n",
       "  <thead>\n",
       "    <tr style=\"text-align: right;\">\n",
       "      <th></th>\n",
       "      <th>id</th>\n",
       "      <th>mileage</th>\n",
       "      <th>model</th>\n",
       "      <th>phone</th>\n",
       "      <th>price</th>\n",
       "      <th>type</th>\n",
       "      <th>year</th>\n",
       "    </tr>\n",
       "  </thead>\n",
       "  <tbody>\n",
       "    <tr>\n",
       "      <th>0</th>\n",
       "      <td>1513744824</td>\n",
       "      <td>7828.0</td>\n",
       "      <td>Zoe</td>\n",
       "      <td>0186655016</td>\n",
       "      <td>13990.0</td>\n",
       "      <td>pro</td>\n",
       "      <td>2017</td>\n",
       "    </tr>\n",
       "    <tr>\n",
       "      <th>1</th>\n",
       "      <td>1513249384</td>\n",
       "      <td>26578.0</td>\n",
       "      <td>Zoe</td>\n",
       "      <td>0160059293</td>\n",
       "      <td>9990.0</td>\n",
       "      <td>pro</td>\n",
       "      <td>2015</td>\n",
       "    </tr>\n",
       "    <tr>\n",
       "      <th>2</th>\n",
       "      <td>1513249395</td>\n",
       "      <td>37535.0</td>\n",
       "      <td>Zoe</td>\n",
       "      <td>0160059293</td>\n",
       "      <td>9990.0</td>\n",
       "      <td>pro</td>\n",
       "      <td>2015</td>\n",
       "    </tr>\n",
       "    <tr>\n",
       "      <th>3</th>\n",
       "      <td>1513183493</td>\n",
       "      <td>31200.0</td>\n",
       "      <td>Zoe</td>\n",
       "      <td>0176381010</td>\n",
       "      <td>8900.0</td>\n",
       "      <td>pro</td>\n",
       "      <td>2013</td>\n",
       "    </tr>\n",
       "    <tr>\n",
       "      <th>4</th>\n",
       "      <td>1511037307</td>\n",
       "      <td>55000.0</td>\n",
       "      <td>Zoe</td>\n",
       "      <td>0143084001</td>\n",
       "      <td>7490.0</td>\n",
       "      <td>pro</td>\n",
       "      <td>2015</td>\n",
       "    </tr>\n",
       "  </tbody>\n",
       "</table>\n",
       "</div>"
      ],
      "text/plain": [
       "           id  mileage model       phone    price type  year\n",
       "0  1513744824   7828.0   Zoe  0186655016  13990.0  pro  2017\n",
       "1  1513249384  26578.0   Zoe  0160059293   9990.0  pro  2015\n",
       "2  1513249395  37535.0   Zoe  0160059293   9990.0  pro  2015\n",
       "3  1513183493  31200.0   Zoe  0176381010   8900.0  pro  2013\n",
       "4  1511037307  55000.0   Zoe  0143084001   7490.0  pro  2015"
      ]
     },
     "execution_count": 27,
     "metadata": {},
     "output_type": "execute_result"
    }
   ],
   "source": [
    "df = pd.DataFrame(car_datas)\n",
    "df.head()"
   ]
  },
  {
   "cell_type": "code",
   "execution_count": 34,
   "metadata": {},
   "outputs": [
    {
     "data": {
      "text/plain": [
       "id       211\n",
       "phone     40\n",
       "dtype: int64"
      ]
     },
     "execution_count": 34,
     "metadata": {},
     "output_type": "execute_result"
    }
   ],
   "source": [
    "df[[\"id\", \"phone\"]].count()"
   ]
  },
  {
   "cell_type": "markdown",
   "metadata": {},
   "source": [
    "We got only 40 phone number out of 211"
   ]
  }
 ],
 "metadata": {
  "kernelspec": {
   "display_name": "Python 3",
   "language": "python",
   "name": "python3"
  },
  "language_info": {
   "codemirror_mode": {
    "name": "ipython",
    "version": 3
   },
   "file_extension": ".py",
   "mimetype": "text/x-python",
   "name": "python",
   "nbconvert_exporter": "python",
   "pygments_lexer": "ipython3",
   "version": "3.6.5"
  }
 },
 "nbformat": 4,
 "nbformat_minor": 2
}
