{
 "cells": [
  {
   "cell_type": "markdown",
   "metadata": {},
   "source": [
    "# Cover Type Prediction of Forests\n",
    "## Introduction\n",
    "This kaggle competition is a multiclass classification problem. We have 7 classes to predict, with continuous and categorical features.\n",
    "This notebook was also published as a Kaggle kernel here:\n",
    "https://www.kaggle.com/radcheb/sd701-chebaane-walkthrough"
   ]
  },
  {
   "cell_type": "markdown",
   "metadata": {},
   "source": [
    "## Initial import"
   ]
  },
  {
   "cell_type": "code",
   "execution_count": 9,
   "metadata": {
    "_uuid": "b69db5aa4ba6e5332fbbd968d6321cfe10750420"
   },
   "outputs": [],
   "source": [
    "import pandas as pd\n",
    "import numpy as np\n",
    "import matplotlib.pyplot as plt\n",
    "%matplotlib inline\n",
    "from sklearn.grid_search import GridSearchCV\n",
    "from sklearn.model_selection import train_test_split\n",
    "from sklearn.metrics import precision_score\n",
    "from sklearn.ensemble import ExtraTreesClassifier, RandomForestClassifier"
   ]
  },
  {
   "cell_type": "code",
   "execution_count": 3,
   "metadata": {
    "_uuid": "b8c019cc2b6dc9da6d02e6c9fa59c7292370fa84"
   },
   "outputs": [],
   "source": [
    "test_csv = \"./test-set.csv\"\n",
    "train_csv = \"./train-set.csv\""
   ]
  },
  {
   "cell_type": "code",
   "execution_count": 4,
   "metadata": {
    "_uuid": "37813f316c7550639f18586d72ac4293b4561cb3"
   },
   "outputs": [
    {
     "data": {
      "text/html": [
       "<div>\n",
       "<style scoped>\n",
       "    .dataframe tbody tr th:only-of-type {\n",
       "        vertical-align: middle;\n",
       "    }\n",
       "\n",
       "    .dataframe tbody tr th {\n",
       "        vertical-align: top;\n",
       "    }\n",
       "\n",
       "    .dataframe thead th {\n",
       "        text-align: right;\n",
       "    }\n",
       "</style>\n",
       "<table border=\"1\" class=\"dataframe\">\n",
       "  <thead>\n",
       "    <tr style=\"text-align: right;\">\n",
       "      <th></th>\n",
       "      <th>Id</th>\n",
       "      <th>Elevation</th>\n",
       "      <th>Aspect</th>\n",
       "      <th>Slope</th>\n",
       "      <th>Horizontal_Distance_To_Hydrology</th>\n",
       "      <th>Vertical_Distance_To_Hydrology</th>\n",
       "      <th>Horizontal_Distance_To_Roadways</th>\n",
       "      <th>Hillshade_9am</th>\n",
       "      <th>Hillshade_Noon</th>\n",
       "      <th>Hillshade_3pm</th>\n",
       "      <th>...</th>\n",
       "      <th>Soil_Type32</th>\n",
       "      <th>Soil_Type33</th>\n",
       "      <th>Soil_Type34</th>\n",
       "      <th>Soil_Type35</th>\n",
       "      <th>Soil_Type36</th>\n",
       "      <th>Soil_Type37</th>\n",
       "      <th>Soil_Type38</th>\n",
       "      <th>Soil_Type39</th>\n",
       "      <th>Soil_Type40</th>\n",
       "      <th>Cover_Type</th>\n",
       "    </tr>\n",
       "  </thead>\n",
       "  <tbody>\n",
       "    <tr>\n",
       "      <th>0</th>\n",
       "      <td>1</td>\n",
       "      <td>2611</td>\n",
       "      <td>326</td>\n",
       "      <td>20</td>\n",
       "      <td>120</td>\n",
       "      <td>27</td>\n",
       "      <td>1597</td>\n",
       "      <td>168</td>\n",
       "      <td>214</td>\n",
       "      <td>184</td>\n",
       "      <td>...</td>\n",
       "      <td>0</td>\n",
       "      <td>0</td>\n",
       "      <td>0</td>\n",
       "      <td>0</td>\n",
       "      <td>0</td>\n",
       "      <td>0</td>\n",
       "      <td>0</td>\n",
       "      <td>0</td>\n",
       "      <td>0</td>\n",
       "      <td>6</td>\n",
       "    </tr>\n",
       "    <tr>\n",
       "      <th>1</th>\n",
       "      <td>2</td>\n",
       "      <td>2772</td>\n",
       "      <td>324</td>\n",
       "      <td>17</td>\n",
       "      <td>42</td>\n",
       "      <td>7</td>\n",
       "      <td>1814</td>\n",
       "      <td>175</td>\n",
       "      <td>220</td>\n",
       "      <td>183</td>\n",
       "      <td>...</td>\n",
       "      <td>0</td>\n",
       "      <td>0</td>\n",
       "      <td>0</td>\n",
       "      <td>0</td>\n",
       "      <td>0</td>\n",
       "      <td>0</td>\n",
       "      <td>0</td>\n",
       "      <td>0</td>\n",
       "      <td>0</td>\n",
       "      <td>2</td>\n",
       "    </tr>\n",
       "    <tr>\n",
       "      <th>2</th>\n",
       "      <td>3</td>\n",
       "      <td>2764</td>\n",
       "      <td>4</td>\n",
       "      <td>14</td>\n",
       "      <td>480</td>\n",
       "      <td>-21</td>\n",
       "      <td>700</td>\n",
       "      <td>201</td>\n",
       "      <td>212</td>\n",
       "      <td>148</td>\n",
       "      <td>...</td>\n",
       "      <td>0</td>\n",
       "      <td>0</td>\n",
       "      <td>0</td>\n",
       "      <td>0</td>\n",
       "      <td>0</td>\n",
       "      <td>0</td>\n",
       "      <td>0</td>\n",
       "      <td>0</td>\n",
       "      <td>0</td>\n",
       "      <td>2</td>\n",
       "    </tr>\n",
       "    <tr>\n",
       "      <th>3</th>\n",
       "      <td>4</td>\n",
       "      <td>3032</td>\n",
       "      <td>342</td>\n",
       "      <td>9</td>\n",
       "      <td>60</td>\n",
       "      <td>8</td>\n",
       "      <td>4050</td>\n",
       "      <td>202</td>\n",
       "      <td>227</td>\n",
       "      <td>164</td>\n",
       "      <td>...</td>\n",
       "      <td>0</td>\n",
       "      <td>0</td>\n",
       "      <td>0</td>\n",
       "      <td>0</td>\n",
       "      <td>0</td>\n",
       "      <td>0</td>\n",
       "      <td>0</td>\n",
       "      <td>0</td>\n",
       "      <td>0</td>\n",
       "      <td>2</td>\n",
       "    </tr>\n",
       "    <tr>\n",
       "      <th>4</th>\n",
       "      <td>5</td>\n",
       "      <td>2488</td>\n",
       "      <td>23</td>\n",
       "      <td>11</td>\n",
       "      <td>117</td>\n",
       "      <td>21</td>\n",
       "      <td>1117</td>\n",
       "      <td>209</td>\n",
       "      <td>218</td>\n",
       "      <td>151</td>\n",
       "      <td>...</td>\n",
       "      <td>0</td>\n",
       "      <td>0</td>\n",
       "      <td>0</td>\n",
       "      <td>0</td>\n",
       "      <td>0</td>\n",
       "      <td>0</td>\n",
       "      <td>0</td>\n",
       "      <td>0</td>\n",
       "      <td>0</td>\n",
       "      <td>2</td>\n",
       "    </tr>\n",
       "  </tbody>\n",
       "</table>\n",
       "<p>5 rows × 56 columns</p>\n",
       "</div>"
      ],
      "text/plain": [
       "   Id  Elevation  Aspect  Slope  Horizontal_Distance_To_Hydrology  \\\n",
       "0   1       2611     326     20                               120   \n",
       "1   2       2772     324     17                                42   \n",
       "2   3       2764       4     14                               480   \n",
       "3   4       3032     342      9                                60   \n",
       "4   5       2488      23     11                               117   \n",
       "\n",
       "   Vertical_Distance_To_Hydrology  Horizontal_Distance_To_Roadways  \\\n",
       "0                              27                             1597   \n",
       "1                               7                             1814   \n",
       "2                             -21                              700   \n",
       "3                               8                             4050   \n",
       "4                              21                             1117   \n",
       "\n",
       "   Hillshade_9am  Hillshade_Noon  Hillshade_3pm     ...      Soil_Type32  \\\n",
       "0            168             214            184     ...                0   \n",
       "1            175             220            183     ...                0   \n",
       "2            201             212            148     ...                0   \n",
       "3            202             227            164     ...                0   \n",
       "4            209             218            151     ...                0   \n",
       "\n",
       "   Soil_Type33  Soil_Type34  Soil_Type35  Soil_Type36  Soil_Type37  \\\n",
       "0            0            0            0            0            0   \n",
       "1            0            0            0            0            0   \n",
       "2            0            0            0            0            0   \n",
       "3            0            0            0            0            0   \n",
       "4            0            0            0            0            0   \n",
       "\n",
       "   Soil_Type38  Soil_Type39  Soil_Type40  Cover_Type  \n",
       "0            0            0            0           6  \n",
       "1            0            0            0           2  \n",
       "2            0            0            0           2  \n",
       "3            0            0            0           2  \n",
       "4            0            0            0           2  \n",
       "\n",
       "[5 rows x 56 columns]"
      ]
     },
     "execution_count": 4,
     "metadata": {},
     "output_type": "execute_result"
    }
   ],
   "source": [
    "train_df = pd.read_csv(train_csv)\n",
    "test_df = pd.read_csv(test_csv)\n",
    "train_df.head()"
   ]
  },
  {
   "cell_type": "code",
   "execution_count": 5,
   "metadata": {},
   "outputs": [],
   "source": [
    "features = train_df.drop([\"Id\", \"Cover_Type\"], axis=1).columns\n",
    "X_train, X_val, y_train, y_val = train_test_split(train_df[features], train_df[\"Cover_Type\"], test_size=0.2, random_state=42)"
   ]
  },
  {
   "cell_type": "markdown",
   "metadata": {},
   "source": [
    "## Features engineering"
   ]
  },
  {
   "cell_type": "code",
   "execution_count": 6,
   "metadata": {},
   "outputs": [
    {
     "name": "stdout",
     "output_type": "stream",
     "text": [
      "Total precision: 0.921149190497806\n",
      "    Class 1: 0.914\n",
      "    Class 2: 0.929\n",
      "    Class 3: 0.893\n",
      "    Class 4: 0.885\n",
      "    Class 5: 0.926\n",
      "    Class 6: 0.881\n",
      "    Class 7: 0.961\n"
     ]
    }
   ],
   "source": [
    "rf_clf = RandomForestClassifier(n_jobs=-1)\n",
    "rf_clf.fit(X_train, y_train)\n",
    "y_pred = rf_clf.predict(X_val)\n",
    "print(\"Total precision: \" + str(1 - np.count_nonzero(y_val - y_pred) / len(y_val - y_pred)))\n",
    "scores = np.round(precision_score(y_val, y_pred, average=None), 3)\n",
    "for i in range(0, 7):\n",
    "    print(\"    Class {0}: {1}\".format(i+1, scores[i]))\n",
    "\n",
    "#Total precision: 0.9209600544711757\n",
    "#    Class 1: 0.914\n",
    "#    Class 2: 0.928\n",
    "#    Class 3: 0.893\n",
    "#    Class 4: 0.911\n",
    "#    Class 5: 0.915\n",
    "#    Class 6: 0.891\n",
    "#    Class 7: 0.965"
   ]
  },
  {
   "cell_type": "code",
   "execution_count": 7,
   "metadata": {},
   "outputs": [
    {
     "data": {
      "text/plain": [
       "<matplotlib.axes._subplots.AxesSubplot at 0x106dacbe0>"
      ]
     },
     "execution_count": 7,
     "metadata": {},
     "output_type": "execute_result"
    },
    {
     "data": {
      "image/png": "[encoded data removed]",
      "text/plain": [
       "<Figure size 720x1080 with 1 Axes>"
      ]
     },
     "metadata": {},
     "output_type": "display_data"
    }
   ],
   "source": [
    "feat_importances = pd.Series(rf_clf.feature_importances_, index=features)\n",
    "feat_importances.nlargest(30).iloc[::-1].plot(kind='barh', figsize=[10, 15], title=\"Top 30 important features\")"
   ]
  },
  {
   "cell_type": "markdown",
   "metadata": {},
   "source": [
    "* We notice that **Elevation, Horizontal_Distance_To_Roadways, Horizontal_Distance_To_Fire_Points, Horizontal_Distance_To_Hydrology and Vertical_Distance_To_Hydrology** are the most important features so let's generate new features from the mix of these features.\n",
    "* Also **Horizontal_Distance_To_Hydrology and Vertical_Distance_To_Hydrology** are the same mesure from different axes so a better feature may be the hypotenuse of both.\n",
    "* Finally since we want to use ensemble learning algorithms (such as RandomForest), we need to have consistant features, so we to group all **Soil_TypeXX** columns in one column. Same for **Wilderness_AreaX**. In fact random forest train many small trees based on a subset of the feature, it's no approriate to take some of the **Soil_TypeXX** columnw without the others."
   ]
  },
  {
   "cell_type": "code",
   "execution_count": 75,
   "metadata": {
    "_uuid": "08ca9b76fc16713d231342558afaf4144ff3f97d"
   },
   "outputs": [],
   "source": [
    "def feature_engineering(in_df):\n",
    "    \n",
    "    rs_df = in_df\n",
    "    \n",
    "    rs_df['Elev_m_VDH'] = rs_df['Elevation'] - rs_df['Vertical_Distance_To_Hydrology']\n",
    "         \n",
    "    rs_df['Elev_p_VDH'] = rs_df['Elevation'] + rs_df['Vertical_Distance_To_Hydrology']\n",
    "         \n",
    "    rs_df['Elev_m_HDH'] = rs_df['Elevation'] - rs_df['Horizontal_Distance_To_Hydrology']\n",
    "         \n",
    "    rs_df['Elev_p_HDH'] = rs_df['Elevation'] + rs_df['Horizontal_Distance_To_Hydrology']\n",
    "     \n",
    "    rs_df['Elev_m_DH'] = rs_df['Elevation'] - rs_df['Dist_to_Hydrolody']\n",
    "         \n",
    "    rs_df['Elev_p_DH'] = rs_df['Elevation'] + rs_df['Dist_to_Hydrolody']\n",
    "\n",
    "    rs_df['Hydro_p_Fire'] = rs_df['Horizontal_Distance_To_Hydrology'] + rs_df['Horizontal_Distance_To_Fire_Points']\n",
    "     \n",
    "    rs_df['Hydro_m_Fire'] = rs_df['Horizontal_Distance_To_Hydrology'] - rs_df['Horizontal_Distance_To_Fire_Points']\n",
    "     \n",
    "    rs_df['Hydro_p_Road'] = rs_df['Horizontal_Distance_To_Hydrology'] + rs_df['Horizontal_Distance_To_Roadways']\n",
    "     \n",
    "    rs_df['Hydro_p_Road'] = rs_df['Horizontal_Distance_To_Hydrology'] - rs_df['Horizontal_Distance_To_Roadways']\n",
    "     \n",
    "    rs_df['Fire_p_Road'] = rs_df['Horizontal_Distance_To_Fire_Points'] + rs_df['Horizontal_Distance_To_Roadways']\n",
    "     \n",
    "    rs_df['Fire_m_Road'] = rs_df['Horizontal_Distance_To_Fire_Points'] - rs_df['Horizontal_Distance_To_Roadways']\n",
    "    \n",
    "    rs_df['Dist_to_Hydrolody'] = (rs_df['Horizontal_Distance_To_Hydrology']**2 + rs_df['Vertical_Distance_To_Hydrology']**2 ) **0.5\n",
    "\n",
    "    rs_df['Soil'] = 0\n",
    "    for i in range(1,41):\n",
    "        rs_df['Soil']= rs_df['Soil'] + i * rs_df['Soil_Type'+str(i)]\n",
    "        \n",
    "    rs_df['Wilderness_Area'] = 0\n",
    "    for i in range(1,5):\n",
    "        rs_df['Wilderness_Area'] = rs_df['Wilderness_Area'] + i * rs_df['Wilderness_Area'+str(i)]\n",
    "        \n",
    "    return rs_df\n",
    "\n",
    "new_features = ['Elevation','Aspect','Slope','Horizontal_Distance_To_Hydrology','Vertical_Distance_To_Hydrology',\n",
    "    'Horizontal_Distance_To_Roadways','Hillshade_9am','Hillshade_Noon','Hillshade_3pm','Horizontal_Distance_To_Fire_Points',\n",
    "    'Elev_m_VDH', 'Elev_p_VDH', 'Dist_to_Hydrolody', 'Hydro_p_Fire', 'Hydro_m_Fire', 'Hydro_p_Road', 'Hydro_p_Road',\n",
    "    'Fire_p_Road', 'Fire_m_Road', 'Soil', 'Wilderness_Area', \n",
    "    'Elev_m_HDH', 'Elev_p_HDH', 'Elev_m_VDH', 'Elev_p_VDH', 'Elev_m_DH', 'Elev_p_DH']\n",
    "new_features_df = feature_engineering(train_df)\n",
    "X_train, X_val, y_train, y_val = train_test_split(new_features_df[new_features], new_features_df[\"Cover_Type\"], test_size=0.2, random_state=42)"
   ]
  },
  {
   "cell_type": "code",
   "execution_count": 76,
   "metadata": {},
   "outputs": [
    {
     "name": "stdout",
     "output_type": "stream",
     "text": [
      "Total precision: 0.939107656226358\n",
      "    Class 1: 0.93\n",
      "    Class 2: 0.948\n",
      "    Class 3: 0.921\n",
      "    Class 4: 0.902\n",
      "    Class 5: 0.92\n",
      "    Class 6: 0.914\n",
      "    Class 7: 0.969\n"
     ]
    }
   ],
   "source": [
    "rf_clf = RandomForestClassifier(n_jobs=-1)\n",
    "rf_clf.fit(X_train, y_train)\n",
    "y_pred = rf_clf.predict(X_val)\n",
    "print(\"Total precision: \" + str(1 - np.count_nonzero(y_val - y_pred) / len(y_val - y_pred)))\n",
    "scores = np.round(precision_score(y_val, y_pred, average=None), 3)\n",
    "for i in range(0, 7):\n",
    "    print(\"    Class {0}: {1}\".format(i+1, scores[i]))\n",
    "    \n",
    "#Total precision: 0.939107656226358\n",
    "#    Class 1: 0.93\n",
    "#    Class 2: 0.948\n",
    "#    Class 3: 0.921\n",
    "#    Class 4: 0.902\n",
    "#    Class 5: 0.92\n",
    "#    Class 6: 0.914\n",
    "#    Class 7: 0.969"
   ]
  },
  {
   "cell_type": "code",
   "execution_count": 67,
   "metadata": {},
   "outputs": [
    {
     "data": {
      "text/plain": [
       "<matplotlib.axes._subplots.AxesSubplot at 0x10cd54358>"
      ]
     },
     "execution_count": 67,
     "metadata": {},
     "output_type": "execute_result"
    },
    {
     "data": {
      "image/png": "[encoded data removed]",
      "text/plain": [
       "<Figure size 720x1080 with 1 Axes>"
      ]
     },
     "metadata": {},
     "output_type": "display_data"
    }
   ],
   "source": [
    "feat_importances = pd.Series(rf_clf.feature_importances_, index=new_features)\n",
    "feat_importances.nlargest(50).iloc[::-1].plot(kind='barh', figsize=[10, 15], title=\"Most important features\")"
   ]
  },
  {
   "cell_type": "markdown",
   "metadata": {},
   "source": [
    "### Use ExtraTrees\n",
    "ExtraTree is Extra Randomized Trees algorithms. It's similar to Random Forest with usually better performance. Here are more details:\n",
    "https://stats.stackexchange.com/questions/175523/difference-between-random-forest-and-extremely-randomized-trees"
   ]
  },
  {
   "cell_type": "code",
   "execution_count": 77,
   "metadata": {},
   "outputs": [
    {
     "name": "stdout",
     "output_type": "stream",
     "text": [
      "Total precision: 0.9431078831895899\n",
      "    Class 1: 0.934\n",
      "    Class 2: 0.952\n",
      "    Class 3: 0.931\n",
      "    Class 4: 0.903\n",
      "    Class 5: 0.916\n",
      "    Class 6: 0.92\n",
      "    Class 7: 0.969\n"
     ]
    }
   ],
   "source": [
    "et_clf = ExtraTreesClassifier(n_jobs=-1)\n",
    "et_clf.fit(X_train, y_train)\n",
    "y_pred = et_clf.predict(X_val)\n",
    "print(\"Total precision: \" + str(1 - np.count_nonzero(y_val - y_pred) / len(y_val - y_pred)))\n",
    "scores = np.round(precision_score(y_val, y_pred, average=None), 3)\n",
    "for i in range(0, 7):\n",
    "    print(\"    Class {0}: {1}\".format(i+1, scores[i]))\n",
    "    \n",
    "#Total precision: 0.9431078831895899\n",
    "#    Class 1: 0.934\n",
    "#    Class 2: 0.952\n",
    "#    Class 3: 0.931\n",
    "#    Class 4: 0.903\n",
    "#    Class 5: 0.916\n",
    "#    Class 6: 0.92\n",
    "#    Class 7: 0.969"
   ]
  },
  {
   "cell_type": "markdown",
   "metadata": {},
   "source": [
    "### Tune Hyperparameters\n",
    "Let's make a grid search with 5-folds. We want the best hyperparameter out of this list:\n",
    "* n_estimators [10, 50, 100, 250, 500, 700, 1000]\n",
    "* criterion ['gini', 'entropy']\n",
    "* max_depth [None, 3, 10]\n",
    "* min_samples_leaf [1, 2, 10]\n",
    "* max_features [0.3, 0.5, 0.7, 0.9]\n",
    "* bootstrap [False, True]\n",
    "* class_weight [None, 'balanced', 'balanced_subsample']\n",
    "\n",
    "However this my take many time and a lot of memory..."
   ]
  },
  {
   "cell_type": "code",
   "execution_count": null,
   "metadata": {},
   "outputs": [],
   "source": [
    "param_grid = {\n",
    "    'n_estimators': [10, 50, 100, 250, 500, 700, 1000],\n",
    "    'max_depth': [None, 3, 10],\n",
    "    'criterion': ['gini', 'entropy'],\n",
    "    'min_samples_leaf': [1, 2, 10],\n",
    "    'max_features' [0.3, 0.5, 0.7, 0.9],\n",
    "    'bootstrap': [False, True],\n",
    "    'class_weight': [None, 'balanced', 'balanced_subsample']\n",
    "}\n",
    "\n",
    "best_model = GridSearchCV(ExtraTreesClassifier(n_jobs=-1, verbose=1), param_grid, cv=5, verbose=10)\n",
    "best_model.fit(X_train, y_train)"
   ]
  },
  {
   "cell_type": "markdown",
   "metadata": {},
   "source": [
    "### Final model\n",
    "The final model is ExtraTreesClassifier with these parameters:\n",
    "* 900 estimators\n",
    "* 0.3 features per tree\n",
    "* Default for other parameters (bootstrap=False, class_weight=None, min_samples_leaf=1, criterion='gini', max_depth=None)"
   ]
  },
  {
   "cell_type": "code",
   "execution_count": 82,
   "metadata": {},
   "outputs": [
    {
     "name": "stderr",
     "output_type": "stream",
     "text": [
      "[Parallel(n_jobs=-1)]: Done  42 tasks      | elapsed:  1.2min\n",
      "[Parallel(n_jobs=-1)]: Done 192 tasks      | elapsed:  5.6min\n",
      "[Parallel(n_jobs=-1)]: Done 442 tasks      | elapsed: 13.3min\n",
      "[Parallel(n_jobs=-1)]: Done 792 tasks      | elapsed: 21.0min\n",
      "[Parallel(n_jobs=-1)]: Done 900 out of 900 | elapsed: 23.4min finished\n",
      "[Parallel(n_jobs=4)]: Done  42 tasks      | elapsed:    2.9s\n",
      "[Parallel(n_jobs=4)]: Done 192 tasks      | elapsed:   13.8s\n",
      "[Parallel(n_jobs=4)]: Done 442 tasks      | elapsed:   36.5s\n",
      "[Parallel(n_jobs=4)]: Done 792 tasks      | elapsed:  1.1min\n",
      "[Parallel(n_jobs=4)]: Done 900 out of 900 | elapsed:  1.6min finished\n"
     ]
    },
    {
     "name": "stdout",
     "output_type": "stream",
     "text": [
      "Total precision: 0.952006733242548\n",
      "    Class 1: 0.958\n",
      "    Class 2: 0.951\n",
      "    Class 3: 0.942\n",
      "    Class 4: 0.929\n",
      "    Class 5: 0.924\n",
      "    Class 6: 0.917\n",
      "    Class 7: 0.967\n"
     ]
    }
   ],
   "source": [
    "et_clf = ExtraTreesClassifier(n_jobs=-1, max_features=0.5, n_estimators=900, verbose=1)\n",
    "et_clf.fit(X_train, y_train)\n",
    "y_pred = et_clf.predict(X_val)\n",
    "print(\"Total precision: \" + str(1 - np.count_nonzero(y_val - y_pred) / len(y_val - y_pred)))\n",
    "scores = np.round(precision_score(y_val, y_pred, average=None), 3)\n",
    "for i in range(0, 7):\n",
    "    print(\"    Class {0}: {1}\".format(i+1, scores[i]))\n",
    "\n",
    "#Total precision: 0.952006733242548\n",
    "#    Class 1: 0.958\n",
    "#    Class 2: 0.951\n",
    "#    Class 3: 0.942\n",
    "#    Class 4: 0.929\n",
    "#    Class 5: 0.924\n",
    "#    Class 6: 0.917\n",
    "#    Class 7: 0.967"
   ]
  },
  {
   "cell_type": "code",
   "execution_count": null,
   "metadata": {
    "_uuid": "8bf6a7845e7dcbf3a16c82a6fb77e83b284aa0cf"
   },
   "outputs": [],
   "source": [
    "best_model = ExtraTreesClassifier(max_features=0.5, n_estimators=900, n_jobs=-1, verbose=1)\n",
    "best_model.fit(new_features_df[new_features], new_features_df[\"Cover_Type\"])\n",
    "\n",
    "submisson_data = best_model.predict(feature_engineering(test_df)[new_features])\n",
    "submission_df = pd.DataFrame(np.column_stack([test_df.Id.values, submisson_data]), columns=[\"Id\", \"Cover_type\"])\n",
    "submission_df.to_csv(\"./submission_txx.csv\", index=False)\n",
    "submission_df.head()"
   ]
  }
 ],
 "metadata": {
  "kernelspec": {
   "display_name": "Python 3",
   "language": "python",
   "name": "python3"
  },
  "language_info": {
   "codemirror_mode": {
    "name": "ipython",
    "version": 3
   },
   "file_extension": ".py",
   "mimetype": "text/x-python",
   "name": "python",
   "nbconvert_exporter": "python",
   "pygments_lexer": "ipython3",
   "version": "3.6.5"
  }
 },
 "nbformat": 4,
 "nbformat_minor": 1
}
